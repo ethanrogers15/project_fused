{
 "cells": [
  {
   "cell_type": "code",
   "execution_count": 1,
   "metadata": {},
   "outputs": [],
   "source": [
    "import cv2"
   ]
  },
  {
   "cell_type": "code",
   "execution_count": 2,
   "metadata": {},
   "outputs": [],
   "source": [
    "TEXT_COLOR = (0, 0, 255)\n",
    "BOX_THICKNESS = 5\n",
    "MARGIN = 5\n",
    "ROW_SIZE = -15\n",
    "FONT_SIZE = 0.5\n",
    "FONT_THICKNESS = 1"
   ]
  },
  {
   "cell_type": "code",
   "execution_count": null,
   "metadata": {},
   "outputs": [],
   "source": [
    "# Function to draw bounding box on an OpenCV image given the MediaPipe detection result.\n",
    "# Will probably need to be modified for workflow combination results, since the result\n",
    "# will probably not be in the neat MediaPipe format\n",
    "\n",
    "def visualize(image, detection_result):\n",
    "\n",
    "    for detection in detection_result.detections:\n",
    "        # Draw the bounding box.\n",
    "        bbox = detection.bounding_box\n",
    "        start_point = bbox.origin_x, bbox.origin_y\n",
    "        end_point = bbox.origin_x + bbox.width, bbox.origin_y + bbox.height\n",
    "        cv2.rectangle(image, start_point, end_point, TEXT_COLOR, BOX_THICKNESS)\n",
    "\n",
    "        # Write the label.\n",
    "        category = detection.categories[0]\n",
    "        category_name = category.category_name\n",
    "        probability = round(category.score, 2)\n",
    "        result_text = category_name + ' (' + str(probability) + ')'\n",
    "        text_location = (MARGIN + bbox.origin_x,\n",
    "                            MARGIN + ROW_SIZE + bbox.origin_y)\n",
    "        cv2.putText(image, result_text, text_location, cv2.FONT_HERSHEY_DUPLEX,\n",
    "                    FONT_SIZE, TEXT_COLOR, FONT_THICKNESS, cv2.LINE_AA)\n",
    "        \n",
    "    return image"
   ]
  },
  {
   "cell_type": "code",
   "execution_count": 8,
   "metadata": {},
   "outputs": [],
   "source": [
    "x1 = 0\n",
    "y1 = 0\n",
    "x2 = 6\n",
    "y2 = 6\n",
    "x3 = 0\n",
    "y3 = 0\n",
    "x4 = 6\n",
    "y4 = 6\n",
    "test_box_1 = (x1, y1, x2, y2)\n",
    "test_box_2 = (x3, y3, x4, y4)"
   ]
  },
  {
   "cell_type": "code",
   "execution_count": 2,
   "metadata": {},
   "outputs": [],
   "source": [
    "# Function to calculate IoU:\n",
    "\n",
    "def calc_iou(box_1, box_2):\n",
    "    \n",
    "    x1, y1, x2, y2 = box_1\n",
    "    x3, y3, x4, y4 = box_2\n",
    "    \n",
    "    x_inter1 = max(x1, x3)\n",
    "    y_inter1 = max(y1, y3)\n",
    "    \n",
    "    x_inter2 = min(x2, x4)\n",
    "    y_inter2 = min(y2, y4)\n",
    "    \n",
    "    width_inter = x_inter2 - x_inter1\n",
    "    height_inter = y_inter2 - y_inter1\n",
    "    area_inter = width_inter * height_inter\n",
    "    \n",
    "    width_box1 = x2 - x1\n",
    "    height_box1 = y2 - y1\n",
    "    width_box2 = x4 - x3\n",
    "    height_box2 = y4 - y3\n",
    "    area_box1 = width_box1 * height_box1\n",
    "    area_box2 = width_box2 * height_box2\n",
    "    \n",
    "    area_union = area_box1 + area_box2 - area_inter\n",
    "    \n",
    "    iou = area_inter / area_union\n",
    "\n",
    "    return iou"
   ]
  },
  {
   "cell_type": "code",
   "execution_count": 9,
   "metadata": {},
   "outputs": [],
   "source": [
    "test_iou_result = calc_iou(test_box_1, test_box_2)"
   ]
  },
  {
   "cell_type": "code",
   "execution_count": null,
   "metadata": {},
   "outputs": [],
   "source": []
  }
 ],
 "metadata": {
  "kernelspec": {
   "display_name": "Python 3",
   "language": "python",
   "name": "python3"
  },
  "language_info": {
   "codemirror_mode": {
    "name": "ipython",
    "version": 3
   },
   "file_extension": ".py",
   "mimetype": "text/x-python",
   "name": "python",
   "nbconvert_exporter": "python",
   "pygments_lexer": "ipython3",
   "version": "3.8.20"
  }
 },
 "nbformat": 4,
 "nbformat_minor": 2
}
