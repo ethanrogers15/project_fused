{
 "cells": [
  {
   "cell_type": "code",
   "execution_count": 1,
   "metadata": {},
   "outputs": [],
   "source": [
    "from numpy import array\n",
    "from numpy.linalg import inv"
   ]
  },
  {
   "cell_type": "code",
   "execution_count": null,
   "metadata": {},
   "outputs": [],
   "source": [
    "# Set extrinsic translation matrices based on physical measurements, no z translation assumed\n",
    "T_l2t = array([[1, 0, 0, 0.028],\n",
    "                [0, 1, 0, -0.038],\n",
    "                [0, 0, 1, 0],\n",
    "                [0, 0, 0, 1]])\n",
    "T_l2w = array([[1, 0, 0, 0.083],\n",
    "                [0, 1, 0, -0.035],\n",
    "                [0, 0, 1, 0],\n",
    "                [0, 0, 0, 1]])\n",
    "\n",
    "# Set extrinsic rotation matrices from stereo calibration\n",
    "R_t2cₜ = array([[0.804905, 0.593319, 0.010014],\n",
    "                [-0.588094, 0.795337, 0.146920],\n",
    "                [0.079206, -0.124146, 0.989098]])\n",
    "R_l2cₜ = array([[0.813639, 0.571181, 0.108367],\n",
    "                [-0.580035, 0.784919, 0.217856],\n",
    "                [0.039376, -0.240112, 0.969946]])\n",
    "R_w2cᵣ = array([[0.903012, -0.397065, -0.164039],\n",
    "                [0.397183, 0.917127, -0.033513],\n",
    "                [0.163751, -0.034891, 0.985884]])\n",
    "R_l2cᵣ = array([[0.909488, -0.399788, -0.114025],\n",
    "                [0.399705, 0.916314, -0.024592],\n",
    "                [0.114314, -0.023211, 0.993173]])\n",
    "\n",
    "# Set intrinsic matrices for the three sensors\n",
    "Kₗ = array([[205.046875, 0.0, 107.55435943603516],\n",
    "            [0.0, 205.046875, 82.43924713134766],\n",
    "            [0.0, 0.0, 1.0]])\n",
    "Kₜ = array([[161.393925, 0.000000, 78.062273],\n",
    "            [0.000000, 161.761028, 59.925115], \n",
    "            [0.000000, 0.000000, 1.000000]])\n",
    "Kᵣ = array([[446.423112, 0.000000, 163.485603], \n",
    "            [0.000000, 446.765896, 131.217485],\n",
    "            [0.000000, 0.000000, 1.000000]])\n"
   ]
  },
  {
   "cell_type": "code",
   "execution_count": null,
   "metadata": {},
   "outputs": [],
   "source": [
    "# Get depth at center of LiDAR image\n",
    "original_lidar_image = 'placeholder - CV image here'\n",
    "uₗ = 1 #NOTE: put actual coordinate here\n",
    "vₗ = 1 #NOTE: put actual coordinate here\n",
    "zₗ = original_lidar_image[round(vₗ),round(uₗ)]\n",
    "\n",
    "# If depth is not registering (zero), then skip\n",
    "if zₗ > 1E-8:\n",
    "    # Calculate the 3D physical coordinate of the center of the LiDAR image\n",
    "    pₗ = array([uₗ, vₗ, 1])\n",
    "    l̂ₗ = inv(Kₗ) @ pₗ\n",
    "    r̄ₗ = zₗ * l̂ₗ\n",
    "    \n",
    "    # Perform extrinsic translations to the thermal sensor and webcam\n",
    "    r̄ₜ = (inv(R_t2cₜ) @ (R_l2cₜ @ r̄ₗ)) + array([T_l2t[0, 3], T_l2t[1, 3], 0]).T\n",
    "    r̄ᵣ = (inv(R_w2cᵣ) @ (R_l2cᵣ @ r̄ₗ)) + array([T_l2w[0, 3], T_l2w[1, 3], 0]).T\n",
    "    \n",
    "    # Transform 3D coordinate to thermal and webcam pixel coordinates\n",
    "    r̃ₜ = array([r̄ₜ[0]/r̄ₜ[2], r̄ₜ[1]/r̄ₜ[2], r̄ₜ[2]/r̄ₜ[2]])\n",
    "    r̃ᵣ = array([r̄ᵣ[0]/r̄ᵣ[2], r̄ᵣ[1]/r̄ᵣ[2], r̄ᵣ[2]/r̄ᵣ[2]])\n",
    "    pₜ = Kₜ @ r̃ₜ\n",
    "    pᵣ = Kᵣ @ r̃ᵣ\n",
    "    uₜ, vₜ = pₜ[0], pₜ[1]\n",
    "    uᵣ, vᵣ = pᵣ[0], pᵣ[1]"
   ]
  }
 ],
 "metadata": {
  "kernelspec": {
   "display_name": "Python 3",
   "language": "python",
   "name": "python3"
  },
  "language_info": {
   "codemirror_mode": {
    "name": "ipython",
    "version": 3
   },
   "file_extension": ".py",
   "mimetype": "text/x-python",
   "name": "python",
   "nbconvert_exporter": "python",
   "pygments_lexer": "ipython3",
   "version": "3.8.20"
  }
 },
 "nbformat": 4,
 "nbformat_minor": 2
}
